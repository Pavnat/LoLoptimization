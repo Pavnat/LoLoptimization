{
 "cells": [
  {
   "cell_type": "markdown",
   "id": "804dbc68-ebb9-4c45-9d98-e27c808c213c",
   "metadata": {
    "jp-MarkdownHeadingCollapsed": true,
    "tags": []
   },
   "source": [
    "# <b>Libraries</b>"
   ]
  },
  {
   "cell_type": "code",
   "execution_count": 9,
   "id": "54be09b7-db4f-4a2a-a565-555e3afe738b",
   "metadata": {},
   "outputs": [],
   "source": [
    "import os\n",
    "import ast\n",
    "import datetime as dt\n",
    "import pandas as pd\n",
    "import numpy as np\n",
    "import matplotlib.pyplot as plt\n",
    "import seaborn as sns\n",
    "from sklearn.model_selection import train_test_split\n",
    "from sklearn.model_selection import cross_val_score\n",
    "from sklearn.model_selection import GridSearchCV\n",
    "from sklearn.model_selection import RandomizedSearchCV\n",
    "from sklearn.preprocessing import MinMaxScaler\n",
    "from sklearn.metrics import accuracy_score\n",
    "from sklearn.model_selection import StratifiedKFold\n",
    "\n",
    "\n",
    "# models\n",
    "from sklearn.ensemble import RandomForestClassifier\n",
    "from xgboost import XGBClassifier\n",
    "import lightgbm\n",
    "from sklearn.svm import SVC \n",
    "\n",
    "# explainability\n",
    "import shap\n",
    "from sklearn.metrics import plot_confusion_matrix"
   ]
  },
  {
   "cell_type": "code",
   "execution_count": 10,
   "id": "67c52a2c-608e-46fc-bc33-69b935be8850",
   "metadata": {},
   "outputs": [
    {
     "name": "stdout",
     "output_type": "stream",
     "text": [
      "2022-03-31 00:01:25.278446\n"
     ]
    }
   ],
   "source": [
    "print(dt.datetime.today())"
   ]
  },
  {
   "cell_type": "markdown",
   "id": "c62a7fde-4670-4c3b-8625-5691fffadf6c",
   "metadata": {
    "jp-MarkdownHeadingCollapsed": true,
    "tags": []
   },
   "source": [
    "# <b>Setup</b>"
   ]
  },
  {
   "cell_type": "code",
   "execution_count": 11,
   "id": "8d7acb75-3f76-4503-9cef-657a939dd483",
   "metadata": {},
   "outputs": [],
   "source": [
    "data_path = r'C:\\Users\\pavlo\\PythonDS\\LoL\\data'\n",
    "data = os.listdir(data_path)"
   ]
  },
  {
   "cell_type": "markdown",
   "id": "a610bc96-0a61-4f9f-ac8f-34af2657094c",
   "metadata": {
    "jp-MarkdownHeadingCollapsed": true,
    "tags": []
   },
   "source": [
    "### Constants"
   ]
  },
  {
   "cell_type": "code",
   "execution_count": 41,
   "id": "8db4fb06-a714-4e76-9de7-f607e9011cca",
   "metadata": {
    "tags": []
   },
   "outputs": [],
   "source": [
    "cv = StratifiedKFold(n_splits=5, shuffle=True, random_state=42)  #cross-validation parameter\n",
    "rand_state = 42\n",
    "n_iter = 70\n",
    "\n",
    "rfc_results_dict = {}\n",
    "xgb_results_dict = {}\n",
    "lgbm_results_dict = {}\n",
    "svm_results_dict = {}\n",
    "\n",
    "#list_of_results_dict = [rfc_results_dict, xgb_results_dict, lgbm_results_dict, svm_results_dict]\n",
    "\n",
    "#models\n",
    "forest = RandomForestClassifier(random_state = rand_state)\n",
    "xgb = XGBClassifier(nthread=-1, use_label_encoder=False, verbosity = 0, eval_metric='logloss', objective = 'binary:logistic', random_state = rand_state)\n",
    "lgbm = lightgbm.LGBMClassifier(random_state = rand_state)\n",
    "svm = SVC(random_state = rand_state)\n",
    "\n",
    "#models_list = [forest, xgb, lgbm, svm]"
   ]
  },
  {
   "cell_type": "markdown",
   "id": "a7361422-51cc-4901-b78b-99609c3be7c5",
   "metadata": {
    "jp-MarkdownHeadingCollapsed": true,
    "tags": []
   },
   "source": [
    "### Hyperparameters search setup"
   ]
  },
  {
   "cell_type": "markdown",
   "id": "5fc279b4-4fb2-4938-b544-4e6431010b0e",
   "metadata": {
    "jp-MarkdownHeadingCollapsed": true,
    "tags": []
   },
   "source": [
    "#### Random Forest search parameters"
   ]
  },
  {
   "cell_type": "code",
   "execution_count": 13,
   "id": "092fc252-5c94-4b18-8033-858c43e15274",
   "metadata": {},
   "outputs": [],
   "source": [
    "#Randomized Search params\n",
    "n_estimators = range(10, 2000, 100)\n",
    "max_depth = range(5, 100, 20)\n",
    "min_samples_split = range(0, 100, 10)\n",
    "rs_rfc = RandomizedSearchCV(forest, param_distributions = {'n_estimators':n_estimators, 'max_depth':max_depth, 'min_samples_split':min_samples_split},\n",
    "                         scoring = 'accuracy', n_jobs = -1, n_iter = n_iter, \n",
    "                         cv=cv,\n",
    "                         random_state=rand_state)  #kind of rule of a thumb - 60 iterations is enough to find 5% best parameters"
   ]
  },
  {
   "cell_type": "markdown",
   "id": "4494fa68-c7cf-4146-aa64-2b89f59ba0bb",
   "metadata": {
    "jp-MarkdownHeadingCollapsed": true,
    "tags": []
   },
   "source": [
    "#### XGBoost search parameters"
   ]
  },
  {
   "cell_type": "code",
   "execution_count": 14,
   "id": "4e0f1899-ed56-4145-809d-fdf7b9c24471",
   "metadata": {},
   "outputs": [],
   "source": [
    "#RandomSearch params\n",
    "n_estimators = range(10, 3000, 5)\n",
    "max_depth = range(5, 200, 1)\n",
    "min_samples_split = range(0, 201, 1)\n",
    "learning_rate = np.arange(0.01, 0.4, 0.01)\n",
    "verbosity = 0\n",
    "rs_xgb = RandomizedSearchCV(xgb, param_distributions = {'n_estimators':n_estimators, 'max_depth':max_depth, 'learning_rate':learning_rate, 'min_samples_split':min_samples_split},\n",
    "                         scoring = 'accuracy', n_jobs = -1, n_iter = n_iter, \n",
    "                         cv=cv,\n",
    "                         random_state=rand_state) "
   ]
  },
  {
   "cell_type": "markdown",
   "id": "7a5bca6d-7848-466e-831a-7219e000ac17",
   "metadata": {
    "jp-MarkdownHeadingCollapsed": true,
    "tags": []
   },
   "source": [
    "#### LGBM search parameters"
   ]
  },
  {
   "cell_type": "code",
   "execution_count": 15,
   "id": "03e5e83b-23ef-49a3-b1a3-4510210c15c5",
   "metadata": {},
   "outputs": [],
   "source": [
    "#RandomSearch params\n",
    "n_estimators = range(10, 3000, 100)\n",
    "num_leaves = range(10, 200, 1)\n",
    "min_child_samples = range(0, 201, 1)\n",
    "learning_rate = np.arange(0.01, 0.4, 0.01)\n",
    "rs_lgbm = RandomizedSearchCV(lgbm, param_distributions = {'num_leaves':num_leaves, 'learning_rate':learning_rate, 'n_estimators':n_estimators, 'min_child_samples':min_child_samples},\n",
    "                         scoring = 'accuracy', n_jobs = -1, n_iter = n_iter, \n",
    "                         cv=cv,\n",
    "                         random_state=rand_state) "
   ]
  },
  {
   "cell_type": "markdown",
   "id": "0c4e6b74-1480-457c-94e0-d4a75703a931",
   "metadata": {
    "jp-MarkdownHeadingCollapsed": true,
    "tags": []
   },
   "source": [
    "#### SVM search parameters"
   ]
  },
  {
   "cell_type": "code",
   "execution_count": 16,
   "id": "33e03bd7-f545-4b57-b7aa-721844fda953",
   "metadata": {},
   "outputs": [],
   "source": [
    "#random search params\n",
    "param_grid = {'C': [0.1, 1.1, 1, 10, 100, 1000],\n",
    "              'gamma': [1000/(10**x) for x in range(0,10,1)],\n",
    "              'kernel': ['linear']} \n",
    "\n",
    "rs_svm = RandomizedSearchCV(svm, param_distributions = param_grid,\n",
    "                         scoring = 'accuracy', n_jobs = -1, n_iter = n_iter,\n",
    "                         cv=cv,\n",
    "                         random_state=rand_state) "
   ]
  },
  {
   "cell_type": "markdown",
   "id": "cd3ca336-bd7b-48fd-a808-d87a466a7353",
   "metadata": {
    "jp-MarkdownHeadingCollapsed": true,
    "tags": []
   },
   "source": [
    "### <b>Functions</b>"
   ]
  },
  {
   "cell_type": "code",
   "execution_count": 17,
   "id": "311609a7-dc3b-463e-8aa9-c2c1a8df086f",
   "metadata": {
    "tags": []
   },
   "outputs": [],
   "source": [
    "def data_cleaner(df):     \n",
    "    \"\"\"Pass in dataframe which you want to be cleaned\"\"\"\n",
    "    \n",
    "    columns = df.select_dtypes(include='number').drop(['internalID'], axis=1).columns\n",
    "    \n",
    "    #PAVLO: game duration to seconds transform\n",
    "    if 'gameDuration' in df.columns:\n",
    "        df['gameDuration'] = df['gameDuration'].map(lambda x: pd.Timedelta(x).seconds)\n",
    "    \n",
    "    min_max = MinMaxScaler()\n",
    "    df[columns] = min_max.fit_transform(df[columns])\n",
    "\n",
    "    df['damageDealtToObjectives'] = df['damageDealtToObjectives'] - df['damageDealtToTurrets']\n",
    "\n",
    "    df = df.drop([\n",
    "        'matchID', \n",
    "        'date', \n",
    "        'gameType', \n",
    "        'championTransform', \n",
    "        'summonerName', \n",
    "        'item0', \n",
    "        'item1', \n",
    "        'item2',\n",
    "        'item3', \n",
    "        'item4', \n",
    "        'item5', \n",
    "        'item6', \n",
    "        'summoner1Id', \n",
    "        'summoner2Id',\n",
    "        'internalID',\n",
    "\n",
    "        'turretTakedowns',\n",
    "    #     'damageDealtToObjectives',\n",
    "    #     'bountyLevel',\n",
    "    #     'totalTimeSpentDead',\n",
    "\n",
    "    #     'damageToTurretsRanking',\n",
    "\n",
    "        'turretsLost',\n",
    "        'inhibitorsLost',\n",
    "        'turretKills',\n",
    "        'nexusLost',\n",
    "        'damageDealtToTurrets',\n",
    "        'nexusTakedowns',\n",
    "        'inhibitorTakedowns',\n",
    "    #     'gameDuration',\n",
    "    #     'queueID'\n",
    "    ], axis=1).replace(False, 0).replace(True, 1)\n",
    "\n",
    "    df = df.dropna(axis=1, how='any')\n",
    "        \n",
    "    return df"
   ]
  },
  {
   "cell_type": "code",
   "execution_count": 112,
   "id": "c1b41149-318f-441a-a70d-6df28f7f50f3",
   "metadata": {},
   "outputs": [],
   "source": [
    "def data_split(df):\n",
    "    \"\"\"Splits championName and individualPosition into binary variables and converts data into dependent variables X and independent variable Y\"\"\"\n",
    "    try:\n",
    "        X = pd.get_dummies(df, columns=['championName', 'individualPosition']).drop(columns=['win'])\n",
    "    except:\n",
    "        X = pd.get_dummies(df, columns=['championName']).drop(columns=['win'])\n",
    "    y = df['win']\n",
    "    \n",
    "    return X, y               #for random search we need whole data as cross validation does the split into train-test data by itself"
   ]
  },
  {
   "cell_type": "code",
   "execution_count": 19,
   "id": "11d7d4a1-9d94-4870-b85d-e38171440279",
   "metadata": {},
   "outputs": [],
   "source": [
    "#below funcitons initiate hyperparameters randomized search and store the results to the predefined dictionary.\n",
    "def search_rfc(X, y, name):\n",
    "    rfc_results_dict[name] = rs_rfc.fit(X, y).cv_results_\n",
    "          \n",
    "def search_xgb(X, y, name):    \n",
    "    xgb_results_dict[name] = rs_xgb.fit(X, y).cv_results_\n",
    "    \n",
    "def search_lgbm(X, y, name):\n",
    "    lgbm_results_dict[name] = rs_lgbm.fit(X, y).cv_results_\n",
    "    \n",
    "def search_svm(X, y, name):\n",
    "    svm_results_dict[name] = rs_svm.fit(X, y).cv_results_\n",
    "    \n",
    "#def search_ada(X, y, name):\n",
    "#    ada_results_dict[name] = rs_ada.fit(X, y).cv_results_"
   ]
  },
  {
   "cell_type": "markdown",
   "id": "91f84836-4968-44d8-934c-baffc9cc1063",
   "metadata": {
    "tags": []
   },
   "source": [
    "# <b>Hyperparameters tuning & results analysis</b>"
   ]
  },
  {
   "cell_type": "markdown",
   "id": "20f62f4b-aa0d-4f05-967f-c4c138a2e002",
   "metadata": {
    "tags": []
   },
   "source": [
    "#### Hyperparameters search loop"
   ]
  },
  {
   "cell_type": "code",
   "execution_count": null,
   "id": "feede57e-5d4a-4e2b-9057-e9b697a6b626",
   "metadata": {
    "tags": []
   },
   "outputs": [],
   "source": [
    "#Hyperparameter tuning loop\n",
    "for i in data:\n",
    "    print(i)\n",
    "    df = pd.read_csv(data_path + '\\\\' + i)\n",
    "    X, y = data_split(data_cleaner(df))\n",
    "    \n",
    "    search_rfc(X, y, i)\n",
    "    search_xgb(X, y, i)\n",
    "    search_lgbm(X, y, i)\n",
    "    search_svm(X, y, i) "
   ]
  },
  {
   "cell_type": "markdown",
   "id": "2c40673b-2f2c-401b-ad87-91b2c4cf32d4",
   "metadata": {
    "jp-MarkdownHeadingCollapsed": true,
    "tags": []
   },
   "source": [
    "#### Aggergating best 5 hyperparams for each player and each model (9 players x 5 best results = 45 best params)"
   ]
  },
  {
   "cell_type": "markdown",
   "id": "0a52e954-bee6-4613-8843-298fbebf3cef",
   "metadata": {
    "jp-MarkdownHeadingCollapsed": true,
    "tags": []
   },
   "source": [
    "##### Agregator for RFC"
   ]
  },
  {
   "cell_type": "code",
   "execution_count": 22,
   "id": "2903cee9-7206-42d7-bb2e-34b3c1de589e",
   "metadata": {},
   "outputs": [],
   "source": [
    "rfc_summary = pd.DataFrame(rfc_results_dict[data[0]]).sort_values('rank_test_score').head(5)      # taking best of 5 configurations\n",
    "rfc_summary['player'] = data[0]                                                                   # adding players identifier\n",
    "for k in data[1:]:                                                                                # loop to gather best 5 results of each player\n",
    "    data_to_append = pd.DataFrame(rfc_results_dict[k]).sort_values('rank_test_score').head(5)     \n",
    "    data_to_append['player'] = k\n",
    "    rfc_summary = rfc_summary.append(data_to_append)\n",
    "\n",
    "#save results\n",
    "rfc_summary.to_csv('rfc_summary100iter.csv')                                                      # saved data cause random search is really time consuming"
   ]
  },
  {
   "cell_type": "markdown",
   "id": "d3984e31-ce7b-4529-aed1-3c9e17672530",
   "metadata": {
    "jp-MarkdownHeadingCollapsed": true,
    "tags": []
   },
   "source": [
    "##### Agregator for XGBoost"
   ]
  },
  {
   "cell_type": "code",
   "execution_count": 23,
   "id": "59660907-1855-40f0-92bc-9d4f0af25b50",
   "metadata": {
    "tags": []
   },
   "outputs": [],
   "source": [
    "xgb_summary = pd.DataFrame(xgb_results_dict[data[0]]).sort_values('rank_test_score').head(5)      # taking best of 5\n",
    "xgb_summary['player'] = data[0]                                                                   # adding players identifier\n",
    "for k in data[1:]:                                                                                # loop to gather best 5 results of each player\n",
    "    data_to_append = pd.DataFrame(xgb_results_dict[k]).sort_values('rank_test_score').head(5)     \n",
    "    data_to_append['player'] = k\n",
    "    xgb_summary = xgb_summary.append(data_to_append)\n",
    "\n",
    "#save results\n",
    "xgb_summary.to_csv('xgb_summary100iter.csv')"
   ]
  },
  {
   "cell_type": "markdown",
   "id": "497c4ce2-5985-423c-8e10-dec8335cfc0c",
   "metadata": {
    "jp-MarkdownHeadingCollapsed": true,
    "tags": []
   },
   "source": [
    "##### Agregator for LGBM"
   ]
  },
  {
   "cell_type": "code",
   "execution_count": 24,
   "id": "e90d5122-ab45-4afd-8051-e79e1c8b97fd",
   "metadata": {},
   "outputs": [],
   "source": [
    "lgbm_summary = pd.DataFrame(lgbm_results_dict[data[0]]).sort_values('rank_test_score').head(5)    # taking best of 5\n",
    "lgbm_summary['player'] = data[0]                                                                  # adding players identifier\n",
    "for k in data[1:]:                                                                                # loop to gather best 5 results of each player\n",
    "    data_to_append = pd.DataFrame(lgbm_results_dict[k]).sort_values('rank_test_score').head(5)     \n",
    "    data_to_append['player'] = k\n",
    "    lgbm_summary = lgbm_summary.append(data_to_append)\n",
    "\n",
    "#save results\n",
    "lgbm_summary.to_csv('lgbm_summary100iter.csv')"
   ]
  },
  {
   "cell_type": "markdown",
   "id": "35b59ed9-51ee-4dc1-8d01-dd45fd3b5734",
   "metadata": {
    "jp-MarkdownHeadingCollapsed": true,
    "tags": []
   },
   "source": [
    "##### Agregator for SVM"
   ]
  },
  {
   "cell_type": "code",
   "execution_count": 25,
   "id": "34629593-53f8-4f9e-9a56-ee60f55b4865",
   "metadata": {
    "tags": []
   },
   "outputs": [],
   "source": [
    "svm_summary = pd.DataFrame(svm_results_dict[data[0]]).sort_values('rank_test_score').head(5)      # taking best of 5\n",
    "svm_summary['player'] = data[0]                                                                   # adding players identifier\n",
    "for k in data[1:]:                                                                                # loop to gather best 5 results of each player\n",
    "    data_to_append = pd.DataFrame(svm_results_dict[k]).sort_values('rank_test_score').head(5)     \n",
    "    data_to_append['player'] = k\n",
    "    svm_summary = svm_summary.append(data_to_append)\n",
    "\n",
    "#save results\n",
    "svm_summary.to_csv('svm_summary100iter.csv')"
   ]
  },
  {
   "cell_type": "markdown",
   "id": "88b15b78-06f6-4688-ad3e-27ff7eefd787",
   "metadata": {
    "jp-MarkdownHeadingCollapsed": true,
    "tags": []
   },
   "source": [
    "#### Calculating score for each hyperparameter"
   ]
  },
  {
   "cell_type": "markdown",
   "id": "fa2ce2ea-7b9d-46cc-abdb-0f1669f36354",
   "metadata": {},
   "source": [
    "Below function checks which hyperparameters configuration is most efficient in general for all users. Efficiency is calculated considering: accuracy, standard deviation and frequency of configuration (i.e. how many users have that configuration in their best 5 configurations).\n",
    "\n",
    "Formula of configuration score: <b> (Accuracy / Stdev) * (frequency of configuration^2 / 9) </b>. In other words, following increases the score:\n",
    "1) Bigger accuracy\n",
    "2) Smaller standard deviation\n",
    "3) Higher frequency of configuration among users\n",
    "\n",
    "To see score table, pass to the functions aggregation summary of your model.\n"
   ]
  },
  {
   "cell_type": "code",
   "execution_count": 26,
   "id": "0ebfd96e-9bee-468b-af52-ad9b1716aa9e",
   "metadata": {},
   "outputs": [],
   "source": [
    "def show_best_hyperparams(summary):\n",
    "    data = summary.copy()\n",
    "    data['params'] = data['params'].astype('str')                 #converting to string as value_counts() does not work with dictionaries\n",
    "    counter = pd.DataFrame(data.value_counts('params'))\n",
    "    data_grouped = data[['params', 'mean_test_score', 'std_test_score']].groupby('params').mean().sort_values('mean_test_score')\n",
    "    score_table = pd.concat([data_grouped, counter], axis = 1).sort_values('mean_test_score', ascending = False)\n",
    "    score_table.rename({0: 'count'}, axis = 1, inplace = True)\n",
    "    score_table['score'] = (score_table['mean_test_score'] / score_table['std_test_score']) * ((score_table['count']**2)/9)\n",
    "   # result = score_table.sort_values('score', ascending = False).head(1).index\n",
    "    \n",
    "    return score_table.sort_values('score', ascending = False)"
   ]
  },
  {
   "cell_type": "code",
   "execution_count": 27,
   "id": "8e1b4556-983b-4956-97ae-30d379e994ae",
   "metadata": {},
   "outputs": [
    {
     "data": {
      "text/html": [
       "<div>\n",
       "<style scoped>\n",
       "    .dataframe tbody tr th:only-of-type {\n",
       "        vertical-align: middle;\n",
       "    }\n",
       "\n",
       "    .dataframe tbody tr th {\n",
       "        vertical-align: top;\n",
       "    }\n",
       "\n",
       "    .dataframe thead th {\n",
       "        text-align: right;\n",
       "    }\n",
       "</style>\n",
       "<table border=\"1\" class=\"dataframe\">\n",
       "  <thead>\n",
       "    <tr style=\"text-align: right;\">\n",
       "      <th></th>\n",
       "      <th>mean_test_score</th>\n",
       "      <th>std_test_score</th>\n",
       "      <th>count</th>\n",
       "      <th>score</th>\n",
       "    </tr>\n",
       "    <tr>\n",
       "      <th>params</th>\n",
       "      <th></th>\n",
       "      <th></th>\n",
       "      <th></th>\n",
       "      <th></th>\n",
       "    </tr>\n",
       "  </thead>\n",
       "  <tbody>\n",
       "    <tr>\n",
       "      <th>{'n_estimators': 1610, 'min_samples_split': 10, 'max_depth': 65}</th>\n",
       "      <td>0.832983</td>\n",
       "      <td>0.032620</td>\n",
       "      <td>5</td>\n",
       "      <td>70.933516</td>\n",
       "    </tr>\n",
       "    <tr>\n",
       "      <th>{'n_estimators': 1510, 'min_samples_split': 10, 'max_depth': 25}</th>\n",
       "      <td>0.835073</td>\n",
       "      <td>0.033268</td>\n",
       "      <td>5</td>\n",
       "      <td>69.726377</td>\n",
       "    </tr>\n",
       "    <tr>\n",
       "      <th>{'n_estimators': 610, 'min_samples_split': 10, 'max_depth': 65}</th>\n",
       "      <td>0.833455</td>\n",
       "      <td>0.035104</td>\n",
       "      <td>5</td>\n",
       "      <td>65.952112</td>\n",
       "    </tr>\n",
       "    <tr>\n",
       "      <th>{'n_estimators': 1910, 'min_samples_split': 10, 'max_depth': 45}</th>\n",
       "      <td>0.822181</td>\n",
       "      <td>0.035499</td>\n",
       "      <td>5</td>\n",
       "      <td>64.336063</td>\n",
       "    </tr>\n",
       "    <tr>\n",
       "      <th>{'n_estimators': 1710, 'min_samples_split': 10, 'max_depth': 85}</th>\n",
       "      <td>0.822206</td>\n",
       "      <td>0.034911</td>\n",
       "      <td>4</td>\n",
       "      <td>41.869270</td>\n",
       "    </tr>\n",
       "  </tbody>\n",
       "</table>\n",
       "</div>"
      ],
      "text/plain": [
       "                                                    mean_test_score  \\\n",
       "params                                                                \n",
       "{'n_estimators': 1610, 'min_samples_split': 10,...         0.832983   \n",
       "{'n_estimators': 1510, 'min_samples_split': 10,...         0.835073   \n",
       "{'n_estimators': 610, 'min_samples_split': 10, ...         0.833455   \n",
       "{'n_estimators': 1910, 'min_samples_split': 10,...         0.822181   \n",
       "{'n_estimators': 1710, 'min_samples_split': 10,...         0.822206   \n",
       "\n",
       "                                                    std_test_score  count  \\\n",
       "params                                                                      \n",
       "{'n_estimators': 1610, 'min_samples_split': 10,...        0.032620      5   \n",
       "{'n_estimators': 1510, 'min_samples_split': 10,...        0.033268      5   \n",
       "{'n_estimators': 610, 'min_samples_split': 10, ...        0.035104      5   \n",
       "{'n_estimators': 1910, 'min_samples_split': 10,...        0.035499      5   \n",
       "{'n_estimators': 1710, 'min_samples_split': 10,...        0.034911      4   \n",
       "\n",
       "                                                        score  \n",
       "params                                                         \n",
       "{'n_estimators': 1610, 'min_samples_split': 10,...  70.933516  \n",
       "{'n_estimators': 1510, 'min_samples_split': 10,...  69.726377  \n",
       "{'n_estimators': 610, 'min_samples_split': 10, ...  65.952112  \n",
       "{'n_estimators': 1910, 'min_samples_split': 10,...  64.336063  \n",
       "{'n_estimators': 1710, 'min_samples_split': 10,...  41.869270  "
      ]
     },
     "execution_count": 27,
     "metadata": {},
     "output_type": "execute_result"
    }
   ],
   "source": [
    "show_best_hyperparams(rfc_summary).head(5)"
   ]
  },
  {
   "cell_type": "code",
   "execution_count": 28,
   "id": "263ebb87-80eb-43fd-a971-358ab9ff8a43",
   "metadata": {},
   "outputs": [
    {
     "data": {
      "text/html": [
       "<div>\n",
       "<style scoped>\n",
       "    .dataframe tbody tr th:only-of-type {\n",
       "        vertical-align: middle;\n",
       "    }\n",
       "\n",
       "    .dataframe tbody tr th {\n",
       "        vertical-align: top;\n",
       "    }\n",
       "\n",
       "    .dataframe thead th {\n",
       "        text-align: right;\n",
       "    }\n",
       "</style>\n",
       "<table border=\"1\" class=\"dataframe\">\n",
       "  <thead>\n",
       "    <tr style=\"text-align: right;\">\n",
       "      <th></th>\n",
       "      <th>mean_test_score</th>\n",
       "      <th>std_test_score</th>\n",
       "      <th>count</th>\n",
       "      <th>score</th>\n",
       "    </tr>\n",
       "    <tr>\n",
       "      <th>params</th>\n",
       "      <th></th>\n",
       "      <th></th>\n",
       "      <th></th>\n",
       "      <th></th>\n",
       "    </tr>\n",
       "  </thead>\n",
       "  <tbody>\n",
       "    <tr>\n",
       "      <th>{'n_estimators': 190, 'min_samples_split': 52, 'max_depth': 110, 'learning_rate': 0.05}</th>\n",
       "      <td>0.808035</td>\n",
       "      <td>0.026765</td>\n",
       "      <td>3</td>\n",
       "      <td>30.190284</td>\n",
       "    </tr>\n",
       "    <tr>\n",
       "      <th>{'n_estimators': 1585, 'min_samples_split': 128, 'max_depth': 94, 'learning_rate': 0.21000000000000002}</th>\n",
       "      <td>0.838270</td>\n",
       "      <td>0.017126</td>\n",
       "      <td>2</td>\n",
       "      <td>21.754752</td>\n",
       "    </tr>\n",
       "    <tr>\n",
       "      <th>{'n_estimators': 350, 'min_samples_split': 88, 'max_depth': 33, 'learning_rate': 0.21000000000000002}</th>\n",
       "      <td>0.838255</td>\n",
       "      <td>0.019689</td>\n",
       "      <td>2</td>\n",
       "      <td>18.922083</td>\n",
       "    </tr>\n",
       "    <tr>\n",
       "      <th>{'n_estimators': 600, 'min_samples_split': 168, 'max_depth': 47, 'learning_rate': 0.36000000000000004}</th>\n",
       "      <td>0.834293</td>\n",
       "      <td>0.022117</td>\n",
       "      <td>2</td>\n",
       "      <td>16.765398</td>\n",
       "    </tr>\n",
       "    <tr>\n",
       "      <th>{'n_estimators': 440, 'min_samples_split': 123, 'max_depth': 131, 'learning_rate': 0.28}</th>\n",
       "      <td>0.839571</td>\n",
       "      <td>0.031396</td>\n",
       "      <td>2</td>\n",
       "      <td>11.885137</td>\n",
       "    </tr>\n",
       "  </tbody>\n",
       "</table>\n",
       "</div>"
      ],
      "text/plain": [
       "                                                    mean_test_score  \\\n",
       "params                                                                \n",
       "{'n_estimators': 190, 'min_samples_split': 52, ...         0.808035   \n",
       "{'n_estimators': 1585, 'min_samples_split': 128...         0.838270   \n",
       "{'n_estimators': 350, 'min_samples_split': 88, ...         0.838255   \n",
       "{'n_estimators': 600, 'min_samples_split': 168,...         0.834293   \n",
       "{'n_estimators': 440, 'min_samples_split': 123,...         0.839571   \n",
       "\n",
       "                                                    std_test_score  count  \\\n",
       "params                                                                      \n",
       "{'n_estimators': 190, 'min_samples_split': 52, ...        0.026765      3   \n",
       "{'n_estimators': 1585, 'min_samples_split': 128...        0.017126      2   \n",
       "{'n_estimators': 350, 'min_samples_split': 88, ...        0.019689      2   \n",
       "{'n_estimators': 600, 'min_samples_split': 168,...        0.022117      2   \n",
       "{'n_estimators': 440, 'min_samples_split': 123,...        0.031396      2   \n",
       "\n",
       "                                                        score  \n",
       "params                                                         \n",
       "{'n_estimators': 190, 'min_samples_split': 52, ...  30.190284  \n",
       "{'n_estimators': 1585, 'min_samples_split': 128...  21.754752  \n",
       "{'n_estimators': 350, 'min_samples_split': 88, ...  18.922083  \n",
       "{'n_estimators': 600, 'min_samples_split': 168,...  16.765398  \n",
       "{'n_estimators': 440, 'min_samples_split': 123,...  11.885137  "
      ]
     },
     "execution_count": 28,
     "metadata": {},
     "output_type": "execute_result"
    }
   ],
   "source": [
    "show_best_hyperparams(xgb_summary).head(5)"
   ]
  },
  {
   "cell_type": "code",
   "execution_count": 29,
   "id": "4ec61d2f-c1b4-44c1-96b3-a58f92e9d6e0",
   "metadata": {},
   "outputs": [
    {
     "data": {
      "text/html": [
       "<div>\n",
       "<style scoped>\n",
       "    .dataframe tbody tr th:only-of-type {\n",
       "        vertical-align: middle;\n",
       "    }\n",
       "\n",
       "    .dataframe tbody tr th {\n",
       "        vertical-align: top;\n",
       "    }\n",
       "\n",
       "    .dataframe thead th {\n",
       "        text-align: right;\n",
       "    }\n",
       "</style>\n",
       "<table border=\"1\" class=\"dataframe\">\n",
       "  <thead>\n",
       "    <tr style=\"text-align: right;\">\n",
       "      <th></th>\n",
       "      <th>mean_test_score</th>\n",
       "      <th>std_test_score</th>\n",
       "      <th>count</th>\n",
       "      <th>score</th>\n",
       "    </tr>\n",
       "    <tr>\n",
       "      <th>params</th>\n",
       "      <th></th>\n",
       "      <th></th>\n",
       "      <th></th>\n",
       "      <th></th>\n",
       "    </tr>\n",
       "  </thead>\n",
       "  <tbody>\n",
       "    <tr>\n",
       "      <th>{'num_leaves': 172, 'n_estimators': 2610, 'min_child_samples': 25, 'learning_rate': 0.04}</th>\n",
       "      <td>0.837553</td>\n",
       "      <td>0.026425</td>\n",
       "      <td>6</td>\n",
       "      <td>126.783019</td>\n",
       "    </tr>\n",
       "    <tr>\n",
       "      <th>{'num_leaves': 35, 'n_estimators': 2510, 'min_child_samples': 19, 'learning_rate': 0.21000000000000002}</th>\n",
       "      <td>0.811792</td>\n",
       "      <td>0.031403</td>\n",
       "      <td>5</td>\n",
       "      <td>71.807666</td>\n",
       "    </tr>\n",
       "    <tr>\n",
       "      <th>{'num_leaves': 33, 'n_estimators': 1110, 'min_child_samples': 11, 'learning_rate': 0.19}</th>\n",
       "      <td>0.822837</td>\n",
       "      <td>0.056327</td>\n",
       "      <td>5</td>\n",
       "      <td>40.578549</td>\n",
       "    </tr>\n",
       "    <tr>\n",
       "      <th>{'num_leaves': 157, 'n_estimators': 110, 'min_child_samples': 8, 'learning_rate': 0.12}</th>\n",
       "      <td>0.800912</td>\n",
       "      <td>0.057287</td>\n",
       "      <td>5</td>\n",
       "      <td>38.835359</td>\n",
       "    </tr>\n",
       "    <tr>\n",
       "      <th>{'num_leaves': 157, 'n_estimators': 2810, 'min_child_samples': 35, 'learning_rate': 0.13}</th>\n",
       "      <td>0.871157</td>\n",
       "      <td>0.023519</td>\n",
       "      <td>3</td>\n",
       "      <td>37.040423</td>\n",
       "    </tr>\n",
       "  </tbody>\n",
       "</table>\n",
       "</div>"
      ],
      "text/plain": [
       "                                                    mean_test_score  \\\n",
       "params                                                                \n",
       "{'num_leaves': 172, 'n_estimators': 2610, 'min_...         0.837553   \n",
       "{'num_leaves': 35, 'n_estimators': 2510, 'min_c...         0.811792   \n",
       "{'num_leaves': 33, 'n_estimators': 1110, 'min_c...         0.822837   \n",
       "{'num_leaves': 157, 'n_estimators': 110, 'min_c...         0.800912   \n",
       "{'num_leaves': 157, 'n_estimators': 2810, 'min_...         0.871157   \n",
       "\n",
       "                                                    std_test_score  count  \\\n",
       "params                                                                      \n",
       "{'num_leaves': 172, 'n_estimators': 2610, 'min_...        0.026425      6   \n",
       "{'num_leaves': 35, 'n_estimators': 2510, 'min_c...        0.031403      5   \n",
       "{'num_leaves': 33, 'n_estimators': 1110, 'min_c...        0.056327      5   \n",
       "{'num_leaves': 157, 'n_estimators': 110, 'min_c...        0.057287      5   \n",
       "{'num_leaves': 157, 'n_estimators': 2810, 'min_...        0.023519      3   \n",
       "\n",
       "                                                         score  \n",
       "params                                                          \n",
       "{'num_leaves': 172, 'n_estimators': 2610, 'min_...  126.783019  \n",
       "{'num_leaves': 35, 'n_estimators': 2510, 'min_c...   71.807666  \n",
       "{'num_leaves': 33, 'n_estimators': 1110, 'min_c...   40.578549  \n",
       "{'num_leaves': 157, 'n_estimators': 110, 'min_c...   38.835359  \n",
       "{'num_leaves': 157, 'n_estimators': 2810, 'min_...   37.040423  "
      ]
     },
     "execution_count": 29,
     "metadata": {},
     "output_type": "execute_result"
    }
   ],
   "source": [
    "show_best_hyperparams(lgbm_summary).head(5)"
   ]
  },
  {
   "cell_type": "code",
   "execution_count": 30,
   "id": "e019acc4-d095-4a35-8f55-15edeaa1a6e8",
   "metadata": {},
   "outputs": [
    {
     "data": {
      "text/html": [
       "<div>\n",
       "<style scoped>\n",
       "    .dataframe tbody tr th:only-of-type {\n",
       "        vertical-align: middle;\n",
       "    }\n",
       "\n",
       "    .dataframe tbody tr th {\n",
       "        vertical-align: top;\n",
       "    }\n",
       "\n",
       "    .dataframe thead th {\n",
       "        text-align: right;\n",
       "    }\n",
       "</style>\n",
       "<table border=\"1\" class=\"dataframe\">\n",
       "  <thead>\n",
       "    <tr style=\"text-align: right;\">\n",
       "      <th></th>\n",
       "      <th>mean_test_score</th>\n",
       "      <th>std_test_score</th>\n",
       "      <th>count</th>\n",
       "      <th>score</th>\n",
       "    </tr>\n",
       "    <tr>\n",
       "      <th>params</th>\n",
       "      <th></th>\n",
       "      <th></th>\n",
       "      <th></th>\n",
       "      <th></th>\n",
       "    </tr>\n",
       "  </thead>\n",
       "  <tbody>\n",
       "    <tr>\n",
       "      <th>{'kernel': 'linear', 'gamma': 1e-06, 'C': 1}</th>\n",
       "      <td>0.845554</td>\n",
       "      <td>0.032568</td>\n",
       "      <td>4</td>\n",
       "      <td>46.155916</td>\n",
       "    </tr>\n",
       "    <tr>\n",
       "      <th>{'kernel': 'linear', 'gamma': 0.01, 'C': 1}</th>\n",
       "      <td>0.823619</td>\n",
       "      <td>0.032633</td>\n",
       "      <td>3</td>\n",
       "      <td>25.239184</td>\n",
       "    </tr>\n",
       "    <tr>\n",
       "      <th>{'kernel': 'linear', 'gamma': 100.0, 'C': 10}</th>\n",
       "      <td>0.839003</td>\n",
       "      <td>0.052801</td>\n",
       "      <td>3</td>\n",
       "      <td>15.890006</td>\n",
       "    </tr>\n",
       "    <tr>\n",
       "      <th>{'kernel': 'linear', 'gamma': 10.0, 'C': 10}</th>\n",
       "      <td>0.839003</td>\n",
       "      <td>0.052801</td>\n",
       "      <td>3</td>\n",
       "      <td>15.890006</td>\n",
       "    </tr>\n",
       "    <tr>\n",
       "      <th>{'kernel': 'linear', 'gamma': 1e-05, 'C': 1}</th>\n",
       "      <td>0.814000</td>\n",
       "      <td>0.028137</td>\n",
       "      <td>2</td>\n",
       "      <td>12.857949</td>\n",
       "    </tr>\n",
       "  </tbody>\n",
       "</table>\n",
       "</div>"
      ],
      "text/plain": [
       "                                               mean_test_score  \\\n",
       "params                                                           \n",
       "{'kernel': 'linear', 'gamma': 1e-06, 'C': 1}          0.845554   \n",
       "{'kernel': 'linear', 'gamma': 0.01, 'C': 1}           0.823619   \n",
       "{'kernel': 'linear', 'gamma': 100.0, 'C': 10}         0.839003   \n",
       "{'kernel': 'linear', 'gamma': 10.0, 'C': 10}          0.839003   \n",
       "{'kernel': 'linear', 'gamma': 1e-05, 'C': 1}          0.814000   \n",
       "\n",
       "                                               std_test_score  count  \\\n",
       "params                                                                 \n",
       "{'kernel': 'linear', 'gamma': 1e-06, 'C': 1}         0.032568      4   \n",
       "{'kernel': 'linear', 'gamma': 0.01, 'C': 1}          0.032633      3   \n",
       "{'kernel': 'linear', 'gamma': 100.0, 'C': 10}        0.052801      3   \n",
       "{'kernel': 'linear', 'gamma': 10.0, 'C': 10}         0.052801      3   \n",
       "{'kernel': 'linear', 'gamma': 1e-05, 'C': 1}         0.028137      2   \n",
       "\n",
       "                                                   score  \n",
       "params                                                    \n",
       "{'kernel': 'linear', 'gamma': 1e-06, 'C': 1}   46.155916  \n",
       "{'kernel': 'linear', 'gamma': 0.01, 'C': 1}    25.239184  \n",
       "{'kernel': 'linear', 'gamma': 100.0, 'C': 10}  15.890006  \n",
       "{'kernel': 'linear', 'gamma': 10.0, 'C': 10}   15.890006  \n",
       "{'kernel': 'linear', 'gamma': 1e-05, 'C': 1}   12.857949  "
      ]
     },
     "execution_count": 30,
     "metadata": {},
     "output_type": "execute_result"
    }
   ],
   "source": [
    "show_best_hyperparams(svm_summary).head(5)"
   ]
  },
  {
   "cell_type": "markdown",
   "id": "7d9e20d1-2eeb-4d45-8881-af1004cc8b53",
   "metadata": {
    "tags": []
   },
   "source": [
    "#### Most efficient hyperparameters across the players"
   ]
  },
  {
   "cell_type": "code",
   "execution_count": 31,
   "id": "0b7cffa0-e768-45e8-b851-a958fdd2f699",
   "metadata": {},
   "outputs": [
    {
     "name": "stdout",
     "output_type": "stream",
     "text": [
      "{'n_estimators': 1610, 'min_samples_split': 10, 'max_depth': 65}\n",
      "{'n_estimators': 190, 'min_samples_split': 52, 'max_depth': 110, 'learning_rate': 0.05}\n",
      "{'num_leaves': 172, 'n_estimators': 2610, 'min_child_samples': 25, 'learning_rate': 0.04}\n",
      "{'kernel': 'linear', 'gamma': 1e-06, 'C': 1}\n"
     ]
    }
   ],
   "source": [
    "#getting best hyperparameters as per score\n",
    "print(ast.literal_eval(show_best_hyperparams(rfc_summary).head(1).index[0]))  #RFC\n",
    "print(ast.literal_eval(show_best_hyperparams(xgb_summary).head(1).index[0]))  #XGBoost\n",
    "print(ast.literal_eval(show_best_hyperparams(lgbm_summary).head(1).index[0])) #LGBM\n",
    "print(ast.literal_eval(show_best_hyperparams(svm_summary).head(1).index[0]))  #SVM"
   ]
  },
  {
   "cell_type": "markdown",
   "id": "c7127a39-cbe5-4d52-aae5-e38bf5b96bd6",
   "metadata": {
    "jp-MarkdownHeadingCollapsed": true,
    "tags": []
   },
   "source": [
    "# <b>Features Importance</b>"
   ]
  },
  {
   "cell_type": "code",
   "execution_count": 59,
   "id": "aac8ecab-be30-4631-b346-4d49cfd217e1",
   "metadata": {},
   "outputs": [],
   "source": [
    "#applying best params to models\n",
    "best_params = [rfc_summary, xgb_summary, lgbm_summary, svm_summary]\n",
    "models_list = [forest, xgb, lgbm, svm]\n",
    "\n",
    "for params, model in zip(best_params, models_list):\n",
    "    model.set_params(**ast.literal_eval(show_best_hyperparams(params).head(1).index[0]))"
   ]
  },
  {
   "cell_type": "markdown",
   "id": "0b34f92e-ece1-4390-872d-17004d510c28",
   "metadata": {
    "tags": []
   },
   "source": [
    "#### Functions"
   ]
  },
  {
   "cell_type": "code",
   "execution_count": 111,
   "id": "1c77d0be-fe10-4fd7-abda-3a07bd76fff8",
   "metadata": {
    "tags": []
   },
   "outputs": [],
   "source": [
    "def fit_models_to_data(data_path, data):\n",
    "    \"\"\"Takes in path and file name.csv, processes data and fits models with predefined hyperparameters to it.\"\"\"\n",
    "    global forest, xgb, lgbm, svm, df, X, y, X_train, X_test, y_train, y_test\n",
    "    \n",
    "    df = pd.read_csv(data_path + '\\\\' + data)\n",
    "    X, y = data_split(data_cleaner(df))           \n",
    "    X_train, X_test, y_train, y_test = train_test_split(X, y, random_state=rand_state, train_size=0.75)\n",
    "\n",
    "    forest.fit(X_train, y_train)\n",
    "    xgb.fit(X_train, y_train)\n",
    "    lgbm.fit(X_train, y_train)\n",
    "    svm.fit(X_train, y_train)\n",
    "\n",
    "\n",
    "\n",
    "def calculate_feature_importances():\n",
    "    \"\"\" Does not require input, takes, uses trained models forest, xgb, lgbm and svm to \"\"\"\n",
    "    global forest_feature_df, xgb_feature_df, lgbm_feature_df, svm_feature_df\n",
    "\n",
    "    forest_feature_df = df_feature_importance(forest.feature_importances_)\n",
    "    xgb_feature_df = df_feature_importance(xgb.feature_importances_)\n",
    "    lgbm_feature_df = df_feature_importance(lgbm.feature_importances_)\n",
    "    svm_feature_df = pd.DataFrame(list(zip(X.columns, abs(svm.coef_[0]))), columns=['feature', 'percent_importance']).sort_values('percent_importance', ascending=False)\n",
    "\n",
    "    #converting lgbm and svm to percentage importances\n",
    "    for f in [lgbm_feature_df, svm_feature_df]:\n",
    "        f['percent_importance'] = f['percent_importance']/np.sum(f['percent_importance'])*100\n",
    "             \n",
    "        \n",
    "def df_feature_importance(importance):\n",
    "    \"\"\"SUBFUNCTION FOR \"calculate_feature_importances()\". Input is one-dimensional np.array of importances. Returns feature importance data frame for importance of model\n",
    "    which have inbuild .features_importance_ attribute.\"\"\"\n",
    "    \n",
    "    feature_importance_list = []\n",
    "    for feature_index, feature_score in enumerate(importance):\n",
    "        feature_importance_list.append((X.columns.tolist()[feature_index], round(feature_score * 100, 2)))\n",
    "\n",
    "    return pd.DataFrame(feature_importance_list, columns=['feature', 'percent_importance']).sort_values('percent_importance', ascending=False)\n",
    "\n",
    "\n",
    "\n",
    "def trimmed_data_score(cutoff_percent, model, features_df):\n",
    "    \"\"\"Trims data and checks score of the model trained on trimmed data.\"\"\"\n",
    "    global score\n",
    "    global cutoff\n",
    "    \n",
    "    X_train_trimmed = X_train.drop(features_df[features_df['percent_importance'] < cutoff_percent]['feature'].tolist(), axis=1)\n",
    "    X_test_trimmed = X_test.drop(features_df[features_df['percent_importance'] < cutoff_percent]['feature'].tolist(), axis=1)\n",
    "\n",
    "    deforestation = model\n",
    "    deforestation.fit(X_train_trimmed, y_train)\n",
    "    #print('Score:', deforestation.score(X_test_trimmed, y_test), i)\n",
    "    if deforestation.score(X_test_trimmed, y_test) >= score:\n",
    "        score = deforestation.score(X_test_trimmed, y_test)\n",
    "        cutoff = cutoff_percent\n",
    "        \n",
    "        \n",
    "def save_best_trim_score(cutoff_percent, model, features_df):\n",
    "    \"\"\"After search for best cutoff is done, saves best cutoff and score with data to dictionary\"\"\"\n",
    "    global new_features\n",
    "    \n",
    "    X_train_trimmed = X_train.drop(features_df[features_df['percent_importance'] < cutoff_percent]['feature'].tolist(), axis=1)\n",
    "    X_test_trimmed = X_test.drop(features_df[features_df['percent_importance'] < cutoff_percent]['feature'].tolist(), axis=1)\n",
    "\n",
    "    deforestation = model\n",
    "    deforestation.fit(X_train_trimmed, y_train)\n",
    "    print(f\"Best Cutoff: {cutoff_percent}, Score: {round(deforestation.score(X_test_trimmed, y_test), 2)}\")\n",
    "\n",
    "    if n == 'SVM':\n",
    "        deforestation_importance = abs(deforestation.coef_[0])/np.sum(abs(deforestation.coef_[0]))\n",
    "    elif n == 'LGBM':\n",
    "        deforestation_importance = deforestation.feature_importances_/np.sum(deforestation.feature_importances_)\n",
    "    else:\n",
    "        deforestation_importance = deforestation.feature_importances_\n",
    "\n",
    "    feature_importance_list = []\n",
    "    for feature_index, feature_score in enumerate(deforestation_importance):\n",
    "        feature_importance_list.append((X.columns.tolist()[feature_index], round(feature_score * 100, 2)))\n",
    "\n",
    "    new_features.append([m, round(score, 2), cutoff_percent, (pd.DataFrame(feature_importance_list, columns=['feature', 'percent_importance']).sort_values('percent_importance', ascending=False))])\n"
   ]
  },
  {
   "cell_type": "markdown",
   "id": "53197511-1744-491d-8508-9ff926921093",
   "metadata": {
    "tags": []
   },
   "source": [
    "#### Aggregating best scores derived from trimmed data"
   ]
  },
  {
   "cell_type": "code",
   "execution_count": 66,
   "id": "e92dfcc2-11a5-4da0-b5e2-0ed5b5dff52b",
   "metadata": {
    "collapsed": true,
    "jupyter": {
     "outputs_hidden": true
    },
    "tags": []
   },
   "outputs": [
    {
     "name": "stdout",
     "output_type": "stream",
     "text": [
      "Forest\n",
      "Best Cutoff: 2.5, Score: 0.84\n",
      "XGBoost\n",
      "Best Cutoff: 0.5, Score: 0.91\n",
      "LGBM\n",
      "Best Cutoff: 2.5, Score: 0.91\n",
      "SVM\n",
      "Best Cutoff: 1.5, Score: 0.87\n",
      "Forest\n",
      "Best Cutoff: 2, Score: 0.92\n",
      "XGBoost\n",
      "Best Cutoff: 0.5, Score: 0.88\n",
      "LGBM\n",
      "Best Cutoff: 0.2, Score: 0.83\n",
      "SVM\n",
      "Best Cutoff: 0, Score: 0.71\n",
      "Forest\n",
      "Best Cutoff: 3, Score: 0.79\n",
      "XGBoost\n",
      "Best Cutoff: 1, Score: 0.83\n",
      "LGBM\n",
      "Best Cutoff: 1, Score: 0.83\n",
      "SVM\n",
      "Best Cutoff: 0.1, Score: 0.81\n",
      "Forest\n",
      "Best Cutoff: 1.5, Score: 0.82\n",
      "XGBoost\n",
      "Best Cutoff: 1, Score: 0.84\n",
      "LGBM\n",
      "Best Cutoff: 0.2, Score: 0.82\n",
      "SVM\n",
      "Best Cutoff: 1, Score: 0.82\n",
      "Forest\n",
      "Best Cutoff: 3, Score: 0.82\n",
      "XGBoost\n",
      "Best Cutoff: 1, Score: 0.82\n",
      "LGBM\n",
      "Best Cutoff: 1, Score: 0.83\n",
      "SVM\n",
      "Best Cutoff: 1.5, Score: 0.83\n",
      "Forest\n",
      "Best Cutoff: 1.5, Score: 0.88\n",
      "XGBoost\n",
      "Best Cutoff: 1, Score: 0.87\n",
      "LGBM\n",
      "Best Cutoff: 1, Score: 0.88\n",
      "SVM\n",
      "Best Cutoff: 0.5, Score: 0.91\n",
      "Forest\n",
      "Best Cutoff: 2, Score: 0.86\n",
      "XGBoost\n",
      "Best Cutoff: 0.2, Score: 0.85\n",
      "LGBM\n",
      "Best Cutoff: 0.5, Score: 0.86\n",
      "SVM\n",
      "Best Cutoff: 1.5, Score: 0.84\n",
      "Forest\n",
      "Best Cutoff: 2.5, Score: 0.94\n",
      "XGBoost\n",
      "Best Cutoff: 1.5, Score: 0.94\n",
      "LGBM\n",
      "Best Cutoff: 3, Score: 0.94\n",
      "SVM\n",
      "Best Cutoff: 3, Score: 0.94\n"
     ]
    },
    {
     "name": "stderr",
     "output_type": "stream",
     "text": [
      "invalid value encountered in true_divide\n"
     ]
    },
    {
     "name": "stdout",
     "output_type": "stream",
     "text": [
      "Forest\n",
      "Best Cutoff: 0.1, Score: 0.82\n",
      "XGBoost\n",
      "Best Cutoff: 1.5, Score: 0.75\n",
      "LGBM\n",
      "Best Cutoff: 2.5, Score: 0.82\n",
      "SVM\n",
      "Best Cutoff: 0.5, Score: 0.78\n"
     ]
    }
   ],
   "source": [
    "features_dict = {}\n",
    "for file_name in data:    \n",
    "    \n",
    "    fit_models_to_data(data_path, file_name)\n",
    "    calculate_feature_importances()    \n",
    "\n",
    "    models = [forest, xgb, lgbm, svm]\n",
    "    features_dfs = [forest_feature_df, xgb_feature_df, lgbm_feature_df, svm_feature_df] \n",
    "    model_names = ['Forest', 'XGBoost', 'LGBM', 'SVM']\n",
    "    new_features = []    \n",
    "    \n",
    "    for m, f, n in zip(models, features_dfs, model_names):\n",
    "        print(n)\n",
    "        score = 0\n",
    "        cutoff = 0\n",
    "\n",
    "        for i in [0, 0.001, 0.1, 0.2, 0.5, 1, 1.5, 2, 2.5, 3]:\n",
    "            trimmed_data_score(i, m, f)\n",
    "        \n",
    "        save_best_trim_score(cutoff, m, f)\n",
    "        \n",
    "        \n",
    "    features_dict[file_name] = new_features"
   ]
  },
  {
   "cell_type": "code",
   "execution_count": 70,
   "id": "1d56e47d-28f9-4da9-805a-ea0d08d9746a",
   "metadata": {},
   "outputs": [],
   "source": [
    "#comparison of importances between models\n",
    "#features_df = forest_feature_df.join(xgb_feature_df.drop('feature', axis = 1), rsuffix='-xgb').join(\n",
    "#                                    lgbm_feature_df.drop('feature', axis = 1), rsuffix = '-lgbm').join(\n",
    "#                                     svm_feature_df.drop('feature', axis = 1), rsuffix = '-svm')\n",
    "\n",
    "#features_df['feature_score'] = features_df.sum(axis = 1, numeric_only = True)"
   ]
  },
  {
   "cell_type": "code",
   "execution_count": 101,
   "id": "ab6f70fb-dd8a-40c6-ac95-1221455b02f4",
   "metadata": {},
   "outputs": [
    {
     "data": {
      "text/html": [
       "<div>\n",
       "<style scoped>\n",
       "    .dataframe tbody tr th:only-of-type {\n",
       "        vertical-align: middle;\n",
       "    }\n",
       "\n",
       "    .dataframe tbody tr th {\n",
       "        vertical-align: top;\n",
       "    }\n",
       "\n",
       "    .dataframe thead th {\n",
       "        text-align: right;\n",
       "    }\n",
       "</style>\n",
       "<table border=\"1\" class=\"dataframe\">\n",
       "  <thead>\n",
       "    <tr style=\"text-align: right;\">\n",
       "      <th></th>\n",
       "      <th>feature</th>\n",
       "      <th>percent_importance</th>\n",
       "      <th>percent_importance-xgb</th>\n",
       "      <th>percent_importance-lgbm</th>\n",
       "      <th>percent_importance-svm</th>\n",
       "      <th>feature_score</th>\n",
       "    </tr>\n",
       "  </thead>\n",
       "  <tbody>\n",
       "    <tr>\n",
       "      <th>2</th>\n",
       "      <td>bountyLevel</td>\n",
       "      <td>8.95</td>\n",
       "      <td>12.34</td>\n",
       "      <td>3.213104</td>\n",
       "      <td>4.131527</td>\n",
       "      <td>28.634632</td>\n",
       "    </tr>\n",
       "    <tr>\n",
       "      <th>0</th>\n",
       "      <td>assists</td>\n",
       "      <td>5.92</td>\n",
       "      <td>3.94</td>\n",
       "      <td>6.016696</td>\n",
       "      <td>4.230036</td>\n",
       "      <td>20.106732</td>\n",
       "    </tr>\n",
       "    <tr>\n",
       "      <th>59</th>\n",
       "      <td>totalTimeSpentDead</td>\n",
       "      <td>5.07</td>\n",
       "      <td>1.86</td>\n",
       "      <td>5.032289</td>\n",
       "      <td>2.088121</td>\n",
       "      <td>14.050410</td>\n",
       "    </tr>\n",
       "    <tr>\n",
       "      <th>8</th>\n",
       "      <td>deaths</td>\n",
       "      <td>4.38</td>\n",
       "      <td>2.11</td>\n",
       "      <td>3.882501</td>\n",
       "      <td>4.282380</td>\n",
       "      <td>14.654882</td>\n",
       "    </tr>\n",
       "    <tr>\n",
       "      <th>20</th>\n",
       "      <td>inhibitorKills</td>\n",
       "      <td>3.42</td>\n",
       "      <td>4.83</td>\n",
       "      <td>2.039691</td>\n",
       "      <td>2.944185</td>\n",
       "      <td>13.233876</td>\n",
       "    </tr>\n",
       "    <tr>\n",
       "      <th>...</th>\n",
       "      <td>...</td>\n",
       "      <td>...</td>\n",
       "      <td>...</td>\n",
       "      <td>...</td>\n",
       "      <td>...</td>\n",
       "      <td>...</td>\n",
       "    </tr>\n",
       "    <tr>\n",
       "      <th>121</th>\n",
       "      <td>championName_Rengar</td>\n",
       "      <td>0.00</td>\n",
       "      <td>0.00</td>\n",
       "      <td>0.000000</td>\n",
       "      <td>0.000000</td>\n",
       "      <td>0.000000</td>\n",
       "    </tr>\n",
       "    <tr>\n",
       "      <th>127</th>\n",
       "      <td>championName_Shen</td>\n",
       "      <td>0.00</td>\n",
       "      <td>0.00</td>\n",
       "      <td>0.000000</td>\n",
       "      <td>0.000000</td>\n",
       "      <td>0.000000</td>\n",
       "    </tr>\n",
       "    <tr>\n",
       "      <th>132</th>\n",
       "      <td>championName_Talon</td>\n",
       "      <td>0.00</td>\n",
       "      <td>0.00</td>\n",
       "      <td>0.000000</td>\n",
       "      <td>0.045296</td>\n",
       "      <td>0.045296</td>\n",
       "    </tr>\n",
       "    <tr>\n",
       "      <th>133</th>\n",
       "      <td>championName_Thresh</td>\n",
       "      <td>0.00</td>\n",
       "      <td>0.00</td>\n",
       "      <td>0.000000</td>\n",
       "      <td>0.000000</td>\n",
       "      <td>0.000000</td>\n",
       "    </tr>\n",
       "    <tr>\n",
       "      <th>80</th>\n",
       "      <td>championName_Cassiopeia</td>\n",
       "      <td>0.00</td>\n",
       "      <td>0.00</td>\n",
       "      <td>0.000000</td>\n",
       "      <td>0.000000</td>\n",
       "      <td>0.000000</td>\n",
       "    </tr>\n",
       "  </tbody>\n",
       "</table>\n",
       "<p>161 rows × 6 columns</p>\n",
       "</div>"
      ],
      "text/plain": [
       "                     feature  percent_importance  percent_importance-xgb  \\\n",
       "2                bountyLevel                8.95                   12.34   \n",
       "0                    assists                5.92                    3.94   \n",
       "59        totalTimeSpentDead                5.07                    1.86   \n",
       "8                     deaths                4.38                    2.11   \n",
       "20            inhibitorKills                3.42                    4.83   \n",
       "..                       ...                 ...                     ...   \n",
       "121      championName_Rengar                0.00                    0.00   \n",
       "127        championName_Shen                0.00                    0.00   \n",
       "132       championName_Talon                0.00                    0.00   \n",
       "133      championName_Thresh                0.00                    0.00   \n",
       "80   championName_Cassiopeia                0.00                    0.00   \n",
       "\n",
       "     percent_importance-lgbm  percent_importance-svm  feature_score  \n",
       "2                   3.213104                4.131527      28.634632  \n",
       "0                   6.016696                4.230036      20.106732  \n",
       "59                  5.032289                2.088121      14.050410  \n",
       "8                   3.882501                4.282380      14.654882  \n",
       "20                  2.039691                2.944185      13.233876  \n",
       "..                       ...                     ...            ...  \n",
       "121                 0.000000                0.000000       0.000000  \n",
       "127                 0.000000                0.000000       0.000000  \n",
       "132                 0.000000                0.045296       0.045296  \n",
       "133                 0.000000                0.000000       0.000000  \n",
       "80                  0.000000                0.000000       0.000000  \n",
       "\n",
       "[161 rows x 6 columns]"
      ]
     },
     "execution_count": 101,
     "metadata": {},
     "output_type": "execute_result"
    }
   ],
   "source": [
    "#features_df"
   ]
  },
  {
   "cell_type": "markdown",
   "id": "803f275c-20f5-40ca-a7cb-6fbffe275099",
   "metadata": {},
   "source": [
    "#### Synthesis of different models outcomes"
   ]
  },
  {
   "cell_type": "markdown",
   "id": "ea47d915-600f-4e09-af79-abb161e20727",
   "metadata": {},
   "source": [
    "Note: same cutoff means different number of features on each model. Why? because each model gives you different percent importances for the same data.\n",
    "That is why instead of cutoff I use number of features.\n",
    "\n",
    "Example of why this way's better is below. In first and second row you see 2 best options with the same cutoff. If you use cutoff as a contributor to score, then 1st option would win despite insgnificant difference in score, but when you use number of features preference would be given to the second model\n",
    "\n",
    "\n",
    "File: stats_BADLUCK20384_2022-03-13_500records.csv\n",
    "\n",
    "1) No of features:21  Score:0.82  Cutoff:1.5, MyScore: 0.179\n",
    "2) No of features:18  Score:0.81  Cutoff:1.5, MyScore: 0.191\n",
    "3) No of features:46  Score:0.82  Cutoff:0.5, MyScore: 0.121\n",
    "4) No of features:36  Score:0.82  Cutoff:1, MyScore: 0.137"
   ]
  },
  {
   "cell_type": "code",
   "execution_count": 108,
   "id": "76757ab9-d30f-4e75-bb06-ea292f7cfd7b",
   "metadata": {},
   "outputs": [
    {
     "name": "stdout",
     "output_type": "stream",
     "text": [
      "File: stats2_MAMMOTHMAN65_2022-03-10_600records.csv\n",
      "--------------------------------------------------\n",
      "No of features:7  Score:0.84  Cutoff:2.5, MyScore: 0.317\n",
      "No of features:53  Score:0.91  Cutoff:0.5, MyScore: 0.125\n",
      "No of features:10  Score:0.91  Cutoff:2.5, MyScore: 0.288\n",
      "No of features:19  Score:0.87  Cutoff:1.5, MyScore: 0.2\n",
      "\n",
      "File: stats2_REDUCEDTOSUPPORT_2022-03-14_500records.csv\n",
      "--------------------------------------------------\n",
      "No of features:14  Score:0.92  Cutoff:2, MyScore: 0.246\n",
      "No of features:38  Score:0.88  Cutoff:0.5, MyScore: 0.143\n",
      "No of features:31  Score:0.83  Cutoff:0.2, MyScore: 0.149\n",
      "No of features:90  Score:0.71  Cutoff:0, MyScore: 0.075\n",
      "\n",
      "File: stats2_SUPPORT XERATH_2022-03-14_500records.csv\n",
      "--------------------------------------------------\n",
      "No of features:8  Score:0.79  Cutoff:3, MyScore: 0.279\n",
      "No of features:37  Score:0.83  Cutoff:1, MyScore: 0.136\n",
      "No of features:35  Score:0.83  Cutoff:1, MyScore: 0.14\n",
      "No of features:82  Score:0.81  Cutoff:0.1, MyScore: 0.089\n",
      "\n",
      "File: stats_BADLUCK20384_2022-03-13_500records.csv\n",
      "--------------------------------------------------\n",
      "No of features:21  Score:0.82  Cutoff:1.5, MyScore: 0.179\n",
      "No of features:42  Score:0.84  Cutoff:1, MyScore: 0.13\n",
      "No of features:56  Score:0.82  Cutoff:0.2, MyScore: 0.11\n",
      "No of features:36  Score:0.82  Cutoff:1, MyScore: 0.137\n",
      "\n",
      "File: stats_BOBQINXD_2022-03-13_500records.csv\n",
      "--------------------------------------------------\n",
      "No of features:6  Score:0.82  Cutoff:3, MyScore: 0.335\n",
      "No of features:36  Score:0.82  Cutoff:1, MyScore: 0.137\n",
      "No of features:37  Score:0.83  Cutoff:1, MyScore: 0.136\n",
      "No of features:18  Score:0.83  Cutoff:1.5, MyScore: 0.196\n",
      "\n",
      "File: stats_ROB THE GRAVE_2022-03-13_500records.csv\n",
      "--------------------------------------------------\n",
      "No of features:21  Score:0.88  Cutoff:1.5, MyScore: 0.192\n",
      "No of features:34  Score:0.87  Cutoff:1, MyScore: 0.149\n",
      "No of features:42  Score:0.88  Cutoff:1, MyScore: 0.136\n",
      "No of features:61  Score:0.91  Cutoff:0.5, MyScore: 0.117\n",
      "\n",
      "File: stats_SHYKYOSTAR XOXO_2022-03-13_500records.csv\n",
      "--------------------------------------------------\n",
      "No of features:12  Score:0.86  Cutoff:2, MyScore: 0.248\n",
      "No of features:64  Score:0.85  Cutoff:0.2, MyScore: 0.106\n",
      "No of features:45  Score:0.86  Cutoff:0.5, MyScore: 0.128\n",
      "No of features:13  Score:0.84  Cutoff:1.5, MyScore: 0.233\n",
      "\n",
      "File: stats_ZHI HUI WAN EKKO_2022-03-13_500records.csv\n",
      "--------------------------------------------------\n",
      "No of features:9  Score:0.94  Cutoff:2.5, MyScore: 0.313\n",
      "No of features:18  Score:0.94  Cutoff:1.5, MyScore: 0.222\n",
      "No of features:83  Score:0.94  Cutoff:3, MyScore: 0.103\n",
      "No of features:10  Score:0.94  Cutoff:3, MyScore: 0.297\n",
      "\n",
      "File: stats_ZOMBRO_2022-03-13_500records.csv\n",
      "--------------------------------------------------\n",
      "No of features:67  Score:0.82  Cutoff:0.1, MyScore: 0.1\n",
      "No of features:17  Score:0.75  Cutoff:1.5, MyScore: 0.182\n",
      "No of features:18  Score:0.82  Cutoff:2.5, MyScore: 0.193\n",
      "No of features:71  Score:0.78  Cutoff:0.5, MyScore: 0.093\n",
      "\n"
     ]
    }
   ],
   "source": [
    "for key in features_dict.keys():\n",
    "    print(f'File: {key}')\n",
    "    print('--------------------------------------------------')\n",
    "    \n",
    "    for item in features_dict[key]:\n",
    "        print(f'No of features:{len(item[3].sort_values(\"percent_importance\", ascending = False).values)}  Score:{item[1]}  Cutoff:{item[2]}, MyScore: {round(item[1]/(len(item[3])**0.5), 3) }')\n",
    "    print()"
   ]
  },
  {
   "cell_type": "code",
   "execution_count": 68,
   "id": "e2f049c2-4c37-44f8-ad9c-f9aa120a44fb",
   "metadata": {
    "tags": []
   },
   "outputs": [],
   "source": [
    "best_features_set = []\n",
    "for key in features_dict.keys(): #for each file    \n",
    "    best_score = 0\n",
    "    best_features = []\n",
    "    for item in features_dict[key]:\n",
    "        fscore = item[1]/len(item[3])**0.5\n",
    "        if best_score <= fscore:\n",
    "            best_score = fscore\n",
    "            best_features = item[3]\n",
    "\n",
    "    best_features_set.append((key, best_features))"
   ]
  },
  {
   "cell_type": "code",
   "execution_count": 110,
   "id": "507cd64b-07c1-4495-948d-f7ed2c15db71",
   "metadata": {},
   "outputs": [
    {
     "data": {
      "text/plain": [
       "('stats2_MAMMOTHMAN65_2022-03-10_600records.csv',\n",
       "                 feature  percent_importance\n",
       " 1               assists               20.35\n",
       " 0          gameDuration               18.66\n",
       " 3           bountyLevel               15.04\n",
       " 6  consumablesPurchased               14.76\n",
       " 2            baronKills               12.82\n",
       " 4       champExperience               12.32\n",
       " 5            champLevel                6.05)"
      ]
     },
     "execution_count": 110,
     "metadata": {},
     "output_type": "execute_result"
    }
   ],
   "source": [
    "best_features_set[0]"
   ]
  },
  {
   "cell_type": "code",
   "execution_count": 84,
   "id": "8a33d1ad-4538-4b68-b79b-9cb9d63b9e26",
   "metadata": {},
   "outputs": [
    {
     "name": "stdout",
     "output_type": "stream",
     "text": [
      "stats2_MAMMOTHMAN65_2022-03-10_600records.csv\n",
      "['assists', 'gameDuration', 'bountyLevel', 'consumablesPurchased', 'baronKills', 'champExperience', 'champLevel']\n",
      "\n",
      "stats2_REDUCEDTOSUPPORT_2022-03-14_500records.csv\n",
      "['queueID', 'gameDuration', 'damageToTurretsRanking', 'doubleKills', 'consumablesPurchased', 'deaths', 'detectorWardsPlaced', 'champLevel', 'baronKills', 'damageDealtToObjectives', 'champExperience', 'damageSelfMitigated', 'assists', 'bountyLevel']\n",
      "\n",
      "stats2_SUPPORT XERATH_2022-03-14_500records.csv\n",
      "['gameDuration', 'queueID', 'assists', 'champLevel', 'baronKills', 'damageToTurretsRanking', 'champExperience', 'bountyLevel']\n",
      "\n",
      "stats_BADLUCK20384_2022-03-13_500records.csv\n",
      "['baronKills', 'assists', 'consumablesPurchased', 'gameEndedInSurrender', 'champExperience', 'detectorWardsPlaced', 'dragonKills', 'gameEndedInEarlySurrender', 'firstTowerAssist', 'deaths', 'goldEarned', 'bountyLevel', 'doubleKills', 'firstTowerKill', 'firstBloodAssist', 'inhibitorKills', 'damageDealtToObjectives', 'champLevel', 'goldSpent', 'damageSelfMitigated', 'firstBloodKill']\n",
      "\n",
      "stats_BOBQINXD_2022-03-13_500records.csv\n",
      "['baronKills', 'assists', 'consumablesPurchased', 'bountyLevel', 'champLevel', 'champExperience']\n",
      "\n",
      "stats_ROB THE GRAVE_2022-03-13_500records.csv\n",
      "['baronKills', 'champLevel', 'firstBloodAssist', 'goldSpent', 'dragonKills', 'damageSelfMitigated', 'deaths', 'bountyLevel', 'firstTowerAssist', 'consumablesPurchased', 'assists', 'champExperience', 'damageDealtToObjectives', 'inhibitorKills', 'gameEndedInEarlySurrender', 'firstTowerKill', 'gameEndedInSurrender', 'goldEarned', 'firstBloodKill', 'detectorWardsPlaced', 'doubleKills']\n",
      "\n",
      "stats_SHYKYOSTAR XOXO_2022-03-13_500records.csv\n",
      "['baronKills', 'assists', 'champExperience', 'dragonKills', 'consumablesPurchased', 'damageSelfMitigated', 'damageDealtToObjectives', 'bountyLevel', 'doubleKills', 'detectorWardsPlaced', 'deaths', 'champLevel']\n",
      "\n",
      "stats_ZHI HUI WAN EKKO_2022-03-13_500records.csv\n",
      "['baronKills', 'assists', 'damageSelfMitigated', 'damageDealtToObjectives', 'champExperience', 'bountyLevel', 'consumablesPurchased', 'deaths', 'champLevel']\n",
      "\n",
      "stats_ZOMBRO_2022-03-13_500records.csv\n",
      "['firstTowerAssist', 'gameEndedInEarlySurrender', 'detectorWardsPlaced', 'consumablesPurchased', 'assists', 'gameEndedInSurrender', 'champExperience', 'firstBloodAssist', 'doubleKills', 'dragonKills', 'firstTowerKill', 'bountyLevel', 'deaths', 'damageDealtToObjectives', 'champLevel', 'firstBloodKill', 'damageSelfMitigated', 'baronKills']\n",
      "\n"
     ]
    }
   ],
   "source": [
    "for i in best_features_set:\n",
    "    print(i[0])\n",
    "    print(list(i[1]['feature']))\n",
    "    print()"
   ]
  },
  {
   "cell_type": "code",
   "execution_count": 89,
   "id": "52bc7405-34f7-4fb4-a249-4bccd3e64944",
   "metadata": {},
   "outputs": [
    {
     "data": {
      "image/png": "[encoded data removed]",
      "text/plain": [
       "<Figure size 1440x360 with 2 Axes>"
      ]
     },
     "metadata": {
      "needs_background": "light"
     },
     "output_type": "display_data"
    }
   ],
   "source": [
    "drill = pd.read_csv(data_path + '\\\\stats2_REDUCEDTOSUPPORT_2022-03-14_500records.csv')\n",
    "drill = drill[['queueID', 'win', 'matchID']]\n",
    "drill['win'] = drill['win'].map({False: 0, True: 1})\n",
    "# plt.figure(dpi=1200)\n",
    "drill.plot.scatter(x='matchID', y='queueID', figsize=(20, 5), s=100, c='win', cmap='bwr_r')\n",
    "plt.xticks(rotation=90)\n",
    "plt.show()"
   ]
  }
 ],
 "metadata": {
  "kernelspec": {
   "display_name": "Python 3 (ipykernel)",
   "language": "python",
   "name": "python3"
  },
  "language_info": {
   "codemirror_mode": {
    "name": "ipython",
    "version": 3
   },
   "file_extension": ".py",
   "mimetype": "text/x-python",
   "name": "python",
   "nbconvert_exporter": "python",
   "pygments_lexer": "ipython3",
   "version": "3.9.7"
  }
 },
 "nbformat": 4,
 "nbformat_minor": 5
}
